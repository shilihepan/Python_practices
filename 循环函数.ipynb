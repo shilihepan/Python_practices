{
 "cells": [
  {
   "cell_type": "code",
   "execution_count": 30,
   "metadata": {},
   "outputs": [
    {
     "name": "stdout",
     "output_type": "stream",
     "text": [
      "* * * * * \n",
      "* * * * * \n",
      "* * * * * \n",
      "* * * * * \n"
     ]
    }
   ],
   "source": [
    "def juxing(): \n",
    "    # 打印出一个矩形\n",
    "\n",
    "    # 控制行   \n",
    "    for i in range(1,5):\n",
    "        #控制列\n",
    "        for j in range(1,6):\n",
    "            print('*',end=\" \")\n",
    "        # 当第i行5列输出完后，进行换行\n",
    "        print()\n",
    "\n",
    "    # 使用字符串乘法来分割输出"
   ]
  },
  {
   "cell_type": "code",
   "execution_count": 31,
   "metadata": {},
   "outputs": [
    {
     "name": "stdout",
     "output_type": "stream",
     "text": [
      "* * * * * \n",
      "*       * \n",
      "*       * \n",
      "* * * * * \n"
     ]
    }
   ],
   "source": [
    "def kjuxing():\n",
    "    # 打印空心矩形\n",
    "    for i in range(1,5):\n",
    "        for j in range(1,6):\n",
    "            if i==1 or i==4:\n",
    "                print('*',end=\" \")\n",
    "            elif j==1 or j==5:\n",
    "                print('*',end=\" \")\n",
    "            else:\n",
    "                print(\" \",end=\" \")\n",
    "        print()"
   ]
  },
  {
   "cell_type": "code",
   "execution_count": 32,
   "metadata": {},
   "outputs": [
    {
     "name": "stdout",
     "output_type": "stream",
     "text": [
      "* \n",
      "* * \n",
      "* * * \n",
      "* * * * \n",
      "* * * * * \n"
     ]
    }
   ],
   "source": [
    "def szjsjx():\n",
    "    # 打印直角三角形\n",
    "\n",
    "    #控制行\n",
    "    for i in range(1,6):\n",
    "        # 控制列，第一行一列，第二行二列\n",
    "        for j in range(6-i,6):\n",
    "            print(\"*\",end=\" \")\n",
    "        print()\n"
   ]
  },
  {
   "cell_type": "code",
   "execution_count": 33,
   "metadata": {},
   "outputs": [
    {
     "name": "stdout",
     "output_type": "stream",
     "text": [
      "* \n",
      "* * \n",
      "*   * \n",
      "*     * \n",
      "* * * * * \n"
     ]
    }
   ],
   "source": [
    "def kszjsjx():\n",
    "    # 打印空心直角三角形\n",
    "\n",
    "    for i in range(1,6):\n",
    "        for j in range(6-i,6):\n",
    "            if i==1 or i==5 or j==6-i or j==5:\n",
    "                print(\"*\",end=\" \")\n",
    "            else:\n",
    "                print(\" \",end=\" \")\n",
    "        print()"
   ]
  },
  {
   "cell_type": "code",
   "execution_count": 34,
   "metadata": {},
   "outputs": [
    {
     "name": "stdout",
     "output_type": "stream",
     "text": [
      "* * * * * \n",
      "* * * * \n",
      "* * * \n",
      "* * \n",
      "* \n",
      "* * * * * \n",
      "*     * \n",
      "*   * \n",
      "* * \n",
      "* \n"
     ]
    }
   ],
   "source": [
    "def xzjsjx():\n",
    "    # 旋转跳跃，我闭着眼\n",
    "\n",
    "    for i in range(1,6):\n",
    "        # 控制列，第一行5列，第二行4列\n",
    "        for j in range(i,6):\n",
    "            print(\"*\",end=\" \")\n",
    "        print()\n",
    "\n",
    "def kxzjsjx():\n",
    "    for i in range(1,6):\n",
    "        for j in range(i,6):\n",
    "            if i==1 or i==5 or j==i or j==5:\n",
    "                print(\"*\",end=\" \")\n",
    "            else:\n",
    "                print(\" \",end=\" \")\n",
    "        print()\n"
   ]
  },
  {
   "cell_type": "code",
   "execution_count": 37,
   "metadata": {},
   "outputs": [
    {
     "name": "stdout",
     "output_type": "stream",
     "text": [
      "    * \n",
      "   * * \n",
      "  * * * \n",
      " * * * * \n",
      "* * * * * \n"
     ]
    }
   ],
   "source": [
    "def dysjx():\n",
    "    # 打印等腰三角形\n",
    "\n",
    "    for i in range(1,6):\n",
    "        # 更改打印起始位置，就是前面会打印空格\n",
    "        for k in range(1,6-i):\n",
    "            print(end=\" \")\n",
    "        # 控制列，第一行一列，第二行二列\n",
    "        for j in range(6-i,6):\n",
    "            print(\"*\",end=\" \")\n",
    "        print()"
   ]
  },
  {
   "cell_type": "code",
   "execution_count": 36,
   "metadata": {},
   "outputs": [
    {
     "name": "stdout",
     "output_type": "stream",
     "text": [
      "    * \n",
      "   * * \n",
      "  *   * \n",
      " *     * \n",
      "* * * * * \n"
     ]
    }
   ],
   "source": [
    "def kdysjx():\n",
    "    # 空心\n",
    "\n",
    "    for i in range(1,6):\n",
    "        # 更改打印起始位置，就是前面会打印空格\n",
    "        for k in range(1,6-i):\n",
    "            print(end=\" \")\n",
    "        # 控制列，第一行一列，第二行二列\n",
    "        for j in range(6-i,6):\n",
    "            if i==1 or i==5 or j==5 or j==6-i:  # 和直角三角形一样\n",
    "                print(\"*\",end=\" \")\n",
    "            else:\n",
    "                print(\" \",end=\" \")\n",
    "        print()"
   ]
  },
  {
   "cell_type": "code",
   "execution_count": 38,
   "metadata": {},
   "outputs": [
    {
     "name": "stdout",
     "output_type": "stream",
     "text": [
      "        * \n",
      "      * * \n",
      "    * * * \n",
      "  * * * * \n",
      "* * * * * \n"
     ]
    }
   ],
   "source": [
    "# 另一种直角三角形\n",
    "for i in range(1,6):\n",
    "    # 更改打印起始位置，就是前面会打印空格\n",
    "    for k in range(1,6-i):\n",
    "        print(end=\"  \")\n",
    "    # 控制列，第一行一列，第二行二列\n",
    "    for j in range(6-i,6):\n",
    "        print(\"*\",end=\" \")\n",
    "    print()\n"
   ]
  },
  {
   "cell_type": "code",
   "execution_count": 39,
   "metadata": {},
   "outputs": [
    {
     "name": "stdout",
     "output_type": "stream",
     "text": [
      "    * \n",
      "   * * \n",
      "  * * * \n",
      " *     * \n",
      "*       * \n"
     ]
    }
   ],
   "source": [
    "def A():\n",
    "    # 打印字母A\n",
    "\n",
    "    for i in range(1,6):\n",
    "        # 更改打印起始位置，就是前面会打印空格\n",
    "        for k in range(1,6-i):\n",
    "            print(end=\" \")\n",
    "        # 控制列，第一行一列，第二行二列\n",
    "        for j in range(6-i,6):\n",
    "            if i==1 or i==3 or j==5 or j==6-i:  # 和直角三角形一样\n",
    "                print(\"*\",end=\" \")\n",
    "            else:\n",
    "                print(\" \",end=\" \")\n",
    "        print()\n"
   ]
  },
  {
   "cell_type": "code",
   "execution_count": 7,
   "metadata": {},
   "outputs": [
    {
     "name": "stdout",
     "output_type": "stream",
     "text": [
      "    * \n",
      "   * * \n",
      "  * * * \n",
      " * * * * \n",
      "* * * * * \n",
      " * * * * \n",
      "  * * * \n",
      "   * * \n",
      "    * \n"
     ]
    }
   ],
   "source": [
    "def lingxing():\n",
    "    # 打印菱形\n",
    "\n",
    "    for i in range(1,6):\n",
    "        # 更改打印起始位置，就是前面会打印空格\n",
    "        for k in range(1,6-i):\n",
    "            print(end=\" \")\n",
    "        # 控制列，第一行一列，第二行二列\n",
    "        for j in range(6-i,6):\n",
    "            print(\"*\",end=\" \")\n",
    "        print()\n",
    "\n",
    "    for i in range(1,5):\n",
    "        # 更改打印起始位置，就是前面会打印空格\n",
    "        for k in range(1,i+1):\n",
    "            print(end=\" \")\n",
    "        # 控制列，第一行一列，第二行二列\n",
    "        for j in range(1,6-i):\n",
    "            print(\"*\",end=\" \")\n",
    "        print()"
   ]
  },
  {
   "cell_type": "code",
   "execution_count": 17,
   "metadata": {},
   "outputs": [
    {
     "name": "stdout",
     "output_type": "stream",
     "text": [
      "    * \n",
      "   * * \n",
      "  *   * \n",
      " *     * \n",
      "*       * \n",
      " *     * \n",
      "  *   * \n",
      "   * * \n",
      "    * \n"
     ]
    }
   ],
   "source": [
    "def klingxing():\n",
    "    # 打印空心菱形\n",
    "\n",
    "    for i in range(1,6):\n",
    "        # 更改打印起始位置，就是前面会打印空格\n",
    "        for k in range(1,6-i):\n",
    "            print(end=\" \")\n",
    "        # 控制列，第一行一列，第二行二列\n",
    "        for j in range(6-i,6):\n",
    "            if i==1 or j==5 or j==6-i :\n",
    "                print(\"*\",end=\" \")\n",
    "            else:\n",
    "                print(\" \",end=\" \")\n",
    "        print()\n",
    "\n",
    "    for i in range(1,5):\n",
    "        # 更改打印起始位置，就是前面会打印空格\n",
    "        for k in range(1,i+1):\n",
    "            print(end=\" \")\n",
    "        # 控制列，第一行一列，第二行二列\n",
    "        for j in range(1,6-i):\n",
    "            if i==4 or j==1 or i==5-j :\n",
    "                print(\"*\",end=\" \")\n",
    "            else:\n",
    "                print(\" \",end=\" \")\n",
    "        print()"
   ]
  },
  {
   "cell_type": "code",
   "execution_count": 20,
   "metadata": {},
   "outputs": [
    {
     "name": "stdout",
     "output_type": "stream",
     "text": [
      "    * * * * * \n",
      "   * * * * * * \n",
      "  * * * * * * * \n",
      " * * * * * * * * \n",
      "* * * * * * * * * \n"
     ]
    }
   ],
   "source": [
    "def dytx():\n",
    "    # 打印等腰梯形\n",
    "\n",
    "    for i in range(5,10):\n",
    "        # 更改打印起始位置，就是前面会打印空格\n",
    "        for k in range(1,10-i):\n",
    "            print(end=\" \")\n",
    "        # 控制列，第一行一列，第二行二列\n",
    "        for j in range(10-i,10):\n",
    "            print(\"*\",end=\" \")\n",
    "        print()"
   ]
  },
  {
   "cell_type": "code",
   "execution_count": 28,
   "metadata": {},
   "outputs": [
    {
     "name": "stdout",
     "output_type": "stream",
     "text": [
      "    * * * * * \n",
      "   *         * \n",
      "  *           * \n",
      " *             * \n",
      "* * * * * * * * * \n"
     ]
    }
   ],
   "source": [
    "def kdytx():\n",
    "    # 打印空心等腰梯形\n",
    "\n",
    "    for i in range(5,10):\n",
    "        # 更改打印起始位置，就是前面会打印空格\n",
    "        for k in range(1,10-i):\n",
    "            print(end=\" \")\n",
    "        # 控制列，第一行一列，第二行二列\n",
    "        for j in range(10-i,10):\n",
    "            if i==5 or i==9 or j==10-i or j==9:\n",
    "                print(\"*\",end=\" \")\n",
    "            else:\n",
    "                print(\" \",end=\" \")\n",
    "        print()"
   ]
  },
  {
   "cell_type": "code",
   "execution_count": null,
   "metadata": {
    "collapsed": true
   },
   "outputs": [],
   "source": [
    "input"
   ]
  }
 ],
 "metadata": {
  "kernelspec": {
   "display_name": "Python 3",
   "language": "python",
   "name": "python3"
  },
  "language_info": {
   "codemirror_mode": {
    "name": "ipython",
    "version": 3
   },
   "file_extension": ".py",
   "mimetype": "text/x-python",
   "name": "python",
   "nbconvert_exporter": "python",
   "pygments_lexer": "ipython3",
   "version": "3.6.3"
  }
 },
 "nbformat": 4,
 "nbformat_minor": 2
}
