{
 "cells": [
  {
   "cell_type": "code",
   "execution_count": 4,
   "metadata": {},
   "outputs": [
    {
     "name": "stdout",
     "output_type": "stream",
     "text": [
      "* * * *   * * * *   * * * * * \n",
      "*         *             *     \n",
      "*         *             *     \n",
      "* * * *   * * * *       *     \n",
      "*         *             *     \n",
      "*         *             *     \n",
      "* * * *   *             *     \n"
     ]
    }
   ],
   "source": [
    "for m in range(1,8):\n",
    "    for n in range(1,5):\n",
    "        if m==1 or m==4 or m==7 or n==1:\n",
    "            print('*',end=\" \")\n",
    "        else:\n",
    "            print(' ',end=' ')\n",
    "    print(' ',end=' ')\n",
    "    \n",
    "    for n in range(1,5):\n",
    "        if m==1 or m==4 or n==1:\n",
    "            print('*',end=' ')\n",
    "        else:\n",
    "            print(' ',end=' ')\n",
    "    print(' ',end=' ')\n",
    "    \n",
    "    for n in range(1,6):\n",
    "        if m==1 or n==3:\n",
    "            print('*',end=' ')\n",
    "        else:\n",
    "            print(' ',end=' ')\n",
    "    print()\n",
    "    "
   ]
  },
  {
   "cell_type": "code",
   "execution_count": null,
   "metadata": {
    "collapsed": true
   },
   "outputs": [],
   "source": []
  }
 ],
 "metadata": {
  "kernelspec": {
   "display_name": "Python 3",
   "language": "python",
   "name": "python3"
  },
  "language_info": {
   "codemirror_mode": {
    "name": "ipython",
    "version": 3
   },
   "file_extension": ".py",
   "mimetype": "text/x-python",
   "name": "python",
   "nbconvert_exporter": "python",
   "pygments_lexer": "ipython3",
   "version": "3.6.3"
  }
 },
 "nbformat": 4,
 "nbformat_minor": 2
}
