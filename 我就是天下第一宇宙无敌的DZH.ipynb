{
 "cells": [
  {
   "cell_type": "code",
   "execution_count": 4,
   "metadata": {},
   "outputs": [
    {
     "name": "stdout",
     "output_type": "stream",
     "text": [
      "*  *  \n",
      "*     * \n",
      "*       * \n",
      "*  \n",
      "*         *\n",
      "*  \n",
      "*       * \n",
      "*     * \n",
      "*  *  \n"
     ]
    }
   ],
   "source": [
    "def printD():\n",
    "    '''\n",
    "    打印大写字母D\n",
    "    '''\n",
    "    # 打印一个空心三角形\n",
    "    for i in range(3,7):\n",
    "        if i==3:  # 少打了一个星号\n",
    "            for j in range(1,i):  \n",
    "                print(\"*\",end=\"  \")  # 增大了间距\n",
    "        elif i==6:\n",
    "            for j in range(1,2):  \n",
    "                print(\"*\",end=\"  \")  # 增大了间距\n",
    "        else:\n",
    "            for j in range(1,i+1):\n",
    "                if j==1 or j==i:\n",
    "                    print(\"*\",end=\" \")\n",
    "                else:\n",
    "                    print(\" \",end=\" \")\n",
    "        print()\n",
    "\n",
    "    print('*',\" \"*7,\"*\")\n",
    "\n",
    "    # 拼接一个空心三角形  \n",
    "    for i in range(1,5):\n",
    "        if i==4:   # 少打一个星号\n",
    "            for j in range(i,6):\n",
    "                print(\"*\",end=\"  \")  # 增大间距\n",
    "        elif i==1:\n",
    "            for j in range(1,2):  \n",
    "                print(\"*\",end=\"  \")  # 增大了间距\n",
    "        else:\n",
    "            for j in range(i,7):\n",
    "                if  j==6 or j==i:\n",
    "                    print(\"*\",end=\" \")\n",
    "                else:\n",
    "                    print(\" \",end=\" \")\n",
    "        print()\n",
    "printD()"
   ]
  },
  {
   "cell_type": "code",
   "execution_count": 179,
   "metadata": {
    "collapsed": true
   },
   "outputs": [],
   "source": [
    "def printZ():\n",
    "    '''\n",
    "    打印大写字母Z\n",
    "    '''\n",
    "    for i in range(1,10):\n",
    "        if i==1:\n",
    "            for j in range(1,7):\n",
    "                if j==1:\n",
    "                    print(' ',end=\" \")\n",
    "                else:\n",
    "                    print(\"*\",end=\" \")\n",
    "        elif i==3:\n",
    "            for j in range(1,6):\n",
    "                if j==5:\n",
    "                    print(\"*\",end=\" \")\n",
    "                else:\n",
    "                    print(\" \",end=\" \")\n",
    "        elif i==5:\n",
    "            for j in range(1,5):\n",
    "                if j==4:\n",
    "                    print(\"*\",end=\" \")\n",
    "                else:\n",
    "                    print(\" \",end=\" \")\n",
    "        elif i==7:\n",
    "            for j in range(1,4):\n",
    "                if j==3:\n",
    "                    print(\"*\",end=\" \")\n",
    "                else:\n",
    "                    print(\" \",end=\" \")\n",
    "        elif i==9:\n",
    "            for j in range(1,7):\n",
    "                if j==1:\n",
    "                    print(\" \",end=\" \")\n",
    "                else:\n",
    "                    print(\"*\",end=\" \")\n",
    "        else:\n",
    "                print(\" \",end=\" \")\n",
    "\n",
    "        print()"
   ]
  },
  {
   "cell_type": "code",
   "execution_count": 154,
   "metadata": {
    "collapsed": true
   },
   "outputs": [],
   "source": [
    "def printH():\n",
    "    '''\n",
    "    打印大写H\n",
    "    '''\n",
    "    for i in range(1,10):\n",
    "        for j in range(1,7):\n",
    "            if j==1 or j==6 or i==5:\n",
    "                print(\"*\",end=\" \")\n",
    "            else:\n",
    "                print(\" \",end=\" \")\n",
    "        print()"
   ]
  },
  {
   "cell_type": "code",
   "execution_count": 182,
   "metadata": {},
   "outputs": [
    {
     "name": "stdout",
     "output_type": "stream",
     "text": [
      "*  *  \n",
      "*     * \n",
      "*       * \n",
      "*  \n",
      "*         *\n",
      "*  \n",
      "*       * \n",
      "*     * \n",
      "*  *  \n",
      "                    \n",
      "  * * * * * \n",
      "  \n",
      "        * \n",
      "  \n",
      "      * \n",
      "  \n",
      "    * \n",
      "  \n",
      "  * * * * * \n",
      "                    \n",
      "*         * \n",
      "*         * \n",
      "*         * \n",
      "*         * \n",
      "* * * * * * \n",
      "*         * \n",
      "*         * \n",
      "*         * \n",
      "*         * \n"
     ]
    }
   ],
   "source": [
    "def printDZH():\n",
    "    printD()\n",
    "    print(\" \"*20)\n",
    "    printZ()\n",
    "    print(\" \"*20)\n",
    "    printH()\n",
    "printDZH()"
   ]
  },
  {
   "cell_type": "code",
   "execution_count": null,
   "metadata": {
    "collapsed": true
   },
   "outputs": [],
   "source": []
  }
 ],
 "metadata": {
  "kernelspec": {
   "display_name": "Python 3",
   "language": "python",
   "name": "python3"
  },
  "language_info": {
   "codemirror_mode": {
    "name": "ipython",
    "version": 3
   },
   "file_extension": ".py",
   "mimetype": "text/x-python",
   "name": "python",
   "nbconvert_exporter": "python",
   "pygments_lexer": "ipython3",
   "version": "3.6.3"
  }
 },
 "nbformat": 4,
 "nbformat_minor": 2
}
