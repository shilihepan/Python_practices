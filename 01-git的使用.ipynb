{
 "cells": [
  {
   "cell_type": "markdown",
   "metadata": {},
   "source": [
    "# git使用\n",
    "- 注册一个git账户\n",
    "- 登录并创建一个远程仓库\n",
    "- 创建本地仓库\n",
    "    - 安装对应的git版本\n",
    "    - git init 初始化本地仓库\n",
    "    - 建立文件\n",
    "    - git add 提交某文件，提交是把他递交到暂存区\n",
    "    - gitcommit 执行完这条命令的时候才把文件从暂存区提交到本地仓库   -m 带说明提交\n",
    "- 配置git\n",
    "    - 生成私钥 ssh-keygen -t rsa -C “email” 并添加到git中\n",
    "    - 添加全局环境\n",
    "    \n",
    "    -添加远程地址\n",
    "        - \n",
    "- 把本地仓库提交到远程仓库中去\n",
    "    - git push -u origin master"
   ]
  },
  {
   "cell_type": "markdown",
   "metadata": {},
   "source": [
    "## 下载别人仓库中的文件\n",
    "- git clone 远程仓库地址\n",
    "- 直接下载压缩包"
   ]
  },
  {
   "cell_type": "code",
   "execution_count": 2,
   "metadata": {},
   "outputs": [
    {
     "name": "stdout",
     "output_type": "stream",
     "text": [
      "我的身高是175,体重是65\n"
     ]
    }
   ],
   "source": [
    "# format格式化字符串\n",
    "# 非关键字参数\n",
    "str1 = \"我的身高是{},体重是{}\"\n",
    "res = str1.format('175','65')\n",
    "print(res)"
   ]
  },
  {
   "cell_type": "code",
   "execution_count": 3,
   "metadata": {},
   "outputs": [
    {
     "name": "stdout",
     "output_type": "stream",
     "text": [
      "我的身高是175,体重是65,175是今天测得\n"
     ]
    }
   ],
   "source": [
    "# 多次利用参数\n",
    "str1 = \"我的身高是{0},体重是{1},{0}是今天测得\"\n",
    "res = str1.format('175','65')\n",
    "print(res)"
   ]
  },
  {
   "cell_type": "code",
   "execution_count": 5,
   "metadata": {},
   "outputs": [
    {
     "name": "stdout",
     "output_type": "stream",
     "text": [
      "我的身高是175,体重是65\n"
     ]
    }
   ],
   "source": [
    "# 关键字参数\n",
    "str1 = \"我的身高是{height},体重是{weight}\"\n",
    "res = str1.format(height='175',weight='65')\n",
    "print(res)"
   ]
  },
  {
   "cell_type": "code",
   "execution_count": 6,
   "metadata": {},
   "outputs": [
    {
     "name": "stdout",
     "output_type": "stream",
     "text": [
      "我的身高是175,体重是65\n"
     ]
    }
   ],
   "source": [
    "# 2.通过下标\n",
    "str1 = \"我的身高是{0[0]},体重是{0[1]}\"\n",
    "# \n",
    "res = str1.format([175,65])\n",
    "print(res)"
   ]
  },
  {
   "cell_type": "code",
   "execution_count": null,
   "metadata": {
    "collapsed": true
   },
   "outputs": [],
   "source": []
  }
 ],
 "metadata": {
  "kernelspec": {
   "display_name": "Python 3",
   "language": "python",
   "name": "python3"
  },
  "language_info": {
   "codemirror_mode": {
    "name": "ipython",
    "version": 3
   },
   "file_extension": ".py",
   "mimetype": "text/x-python",
   "name": "python",
   "nbconvert_exporter": "python",
   "pygments_lexer": "ipython3",
   "version": "3.6.3"
  }
 },
 "nbformat": 4,
 "nbformat_minor": 2
}
